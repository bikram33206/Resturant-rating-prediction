{
 "cells": [
  {
   "cell_type": "markdown",
   "metadata": {},
   "source": [
    "# 1. IMPORTING LIBREARY:"
   ]
  },
  {
   "cell_type": "code",
   "execution_count": 1,
   "metadata": {},
   "outputs": [],
   "source": [
    "import pandas as pd\n",
    "import numpy as np\n",
    "import matplotlib.pyplot as plt\n",
    "import re\n",
    "import seaborn as sns\n",
    "import operator\n",
    "\n",
    "\n",
    "from collections import Counter\n",
    "from tqdm import tqdm"
   ]
  },
  {
   "cell_type": "markdown",
   "metadata": {},
   "source": [
    "# 2. DATASET:"
   ]
  },
  {
   "cell_type": "code",
   "execution_count": 2,
   "metadata": {},
   "outputs": [
    {
     "data": {
      "text/html": [
       "<div>\n",
       "<style scoped>\n",
       "    .dataframe tbody tr th:only-of-type {\n",
       "        vertical-align: middle;\n",
       "    }\n",
       "\n",
       "    .dataframe tbody tr th {\n",
       "        vertical-align: top;\n",
       "    }\n",
       "\n",
       "    .dataframe thead th {\n",
       "        text-align: right;\n",
       "    }\n",
       "</style>\n",
       "<table border=\"1\" class=\"dataframe\">\n",
       "  <thead>\n",
       "    <tr style=\"text-align: right;\">\n",
       "      <th></th>\n",
       "      <th>Name</th>\n",
       "      <th>City</th>\n",
       "      <th>Cuisine Style</th>\n",
       "      <th>Ranking</th>\n",
       "      <th>Rating</th>\n",
       "      <th>Price Range</th>\n",
       "      <th>Number of Reviews</th>\n",
       "      <th>Reviews</th>\n",
       "      <th>URL_TA</th>\n",
       "      <th>ID_TA</th>\n",
       "    </tr>\n",
       "  </thead>\n",
       "  <tbody>\n",
       "    <tr>\n",
       "      <th>0</th>\n",
       "      <td>Martine of Martine's Table</td>\n",
       "      <td>Amsterdam</td>\n",
       "      <td>['French', 'Dutch', 'European']</td>\n",
       "      <td>1.0</td>\n",
       "      <td>5.0</td>\n",
       "      <td>$$ - $$$</td>\n",
       "      <td>136.0</td>\n",
       "      <td>[['Just like home', 'A Warm Welcome to Wintry ...</td>\n",
       "      <td>/Restaurant_Review-g188590-d11752080-Reviews-M...</td>\n",
       "      <td>d11752080</td>\n",
       "    </tr>\n",
       "    <tr>\n",
       "      <th>1</th>\n",
       "      <td>De Silveren Spiegel</td>\n",
       "      <td>Amsterdam</td>\n",
       "      <td>['Dutch', 'European', 'Vegetarian Friendly', '...</td>\n",
       "      <td>2.0</td>\n",
       "      <td>4.5</td>\n",
       "      <td>$$$$</td>\n",
       "      <td>812.0</td>\n",
       "      <td>[['Great food and staff', 'just perfect'], ['0...</td>\n",
       "      <td>/Restaurant_Review-g188590-d693419-Reviews-De_...</td>\n",
       "      <td>d693419</td>\n",
       "    </tr>\n",
       "    <tr>\n",
       "      <th>2</th>\n",
       "      <td>La Rive</td>\n",
       "      <td>Amsterdam</td>\n",
       "      <td>['Mediterranean', 'French', 'International', '...</td>\n",
       "      <td>3.0</td>\n",
       "      <td>4.5</td>\n",
       "      <td>$$$$</td>\n",
       "      <td>567.0</td>\n",
       "      <td>[['Satisfaction', 'Delicious old school restau...</td>\n",
       "      <td>/Restaurant_Review-g188590-d696959-Reviews-La_...</td>\n",
       "      <td>d696959</td>\n",
       "    </tr>\n",
       "    <tr>\n",
       "      <th>3</th>\n",
       "      <td>Vinkeles</td>\n",
       "      <td>Amsterdam</td>\n",
       "      <td>['French', 'European', 'International', 'Conte...</td>\n",
       "      <td>4.0</td>\n",
       "      <td>5.0</td>\n",
       "      <td>$$$$</td>\n",
       "      <td>564.0</td>\n",
       "      <td>[['True five star dinner', 'A superb evening o...</td>\n",
       "      <td>/Restaurant_Review-g188590-d1239229-Reviews-Vi...</td>\n",
       "      <td>d1239229</td>\n",
       "    </tr>\n",
       "    <tr>\n",
       "      <th>4</th>\n",
       "      <td>Librije's Zusje Amsterdam</td>\n",
       "      <td>Amsterdam</td>\n",
       "      <td>['Dutch', 'European', 'International', 'Vegeta...</td>\n",
       "      <td>5.0</td>\n",
       "      <td>4.5</td>\n",
       "      <td>$$$$</td>\n",
       "      <td>316.0</td>\n",
       "      <td>[['Best meal.... EVER', 'super food experience...</td>\n",
       "      <td>/Restaurant_Review-g188590-d6864170-Reviews-Li...</td>\n",
       "      <td>d6864170</td>\n",
       "    </tr>\n",
       "  </tbody>\n",
       "</table>\n",
       "</div>"
      ],
      "text/plain": [
       "                         Name       City  \\\n",
       "0  Martine of Martine's Table  Amsterdam   \n",
       "1         De Silveren Spiegel  Amsterdam   \n",
       "2                     La Rive  Amsterdam   \n",
       "3                    Vinkeles  Amsterdam   \n",
       "4   Librije's Zusje Amsterdam  Amsterdam   \n",
       "\n",
       "                                       Cuisine Style  Ranking  Rating  \\\n",
       "0                    ['French', 'Dutch', 'European']      1.0     5.0   \n",
       "1  ['Dutch', 'European', 'Vegetarian Friendly', '...      2.0     4.5   \n",
       "2  ['Mediterranean', 'French', 'International', '...      3.0     4.5   \n",
       "3  ['French', 'European', 'International', 'Conte...      4.0     5.0   \n",
       "4  ['Dutch', 'European', 'International', 'Vegeta...      5.0     4.5   \n",
       "\n",
       "  Price Range  Number of Reviews  \\\n",
       "0    $$ - $$$              136.0   \n",
       "1        $$$$              812.0   \n",
       "2        $$$$              567.0   \n",
       "3        $$$$              564.0   \n",
       "4        $$$$              316.0   \n",
       "\n",
       "                                             Reviews  \\\n",
       "0  [['Just like home', 'A Warm Welcome to Wintry ...   \n",
       "1  [['Great food and staff', 'just perfect'], ['0...   \n",
       "2  [['Satisfaction', 'Delicious old school restau...   \n",
       "3  [['True five star dinner', 'A superb evening o...   \n",
       "4  [['Best meal.... EVER', 'super food experience...   \n",
       "\n",
       "                                              URL_TA      ID_TA  \n",
       "0  /Restaurant_Review-g188590-d11752080-Reviews-M...  d11752080  \n",
       "1  /Restaurant_Review-g188590-d693419-Reviews-De_...    d693419  \n",
       "2  /Restaurant_Review-g188590-d696959-Reviews-La_...    d696959  \n",
       "3  /Restaurant_Review-g188590-d1239229-Reviews-Vi...   d1239229  \n",
       "4  /Restaurant_Review-g188590-d6864170-Reviews-Li...   d6864170  "
      ]
     },
     "execution_count": 2,
     "metadata": {},
     "output_type": "execute_result"
    }
   ],
   "source": [
    "dataset = pd.read_csv(r'C:\\Users\\Abhijit\\Desktop\\DS\\iNuron\\RestaurantRatings\\TA_restaurants_curated.csv')\n",
    "dataset.drop(['Unnamed: 0'], axis=1, inplace=True)\n",
    "dataset.head(5)"
   ]
  },
  {
   "cell_type": "markdown",
   "metadata": {},
   "source": [
    "# 3. RENAME THE DATASET COLUMNS:"
   ]
  },
  {
   "cell_type": "code",
   "execution_count": 3,
   "metadata": {},
   "outputs": [
    {
     "name": "stdout",
     "output_type": "stream",
     "text": [
      "old_column_name:  ['Name', 'City', 'Cuisine Style', 'Ranking', 'Rating', 'Price Range', 'Number of Reviews', 'Reviews', 'URL_TA', 'ID_TA']\n",
      "\n",
      "new_column_name:  ['name', 'city', 'cuisine_style', 'ranking', 'rating', 'price_range', 'number_of_reviews', 'reviews', 'url_ta', 'id_ta']\n"
     ]
    },
    {
     "data": {
      "text/html": [
       "<div>\n",
       "<style scoped>\n",
       "    .dataframe tbody tr th:only-of-type {\n",
       "        vertical-align: middle;\n",
       "    }\n",
       "\n",
       "    .dataframe tbody tr th {\n",
       "        vertical-align: top;\n",
       "    }\n",
       "\n",
       "    .dataframe thead th {\n",
       "        text-align: right;\n",
       "    }\n",
       "</style>\n",
       "<table border=\"1\" class=\"dataframe\">\n",
       "  <thead>\n",
       "    <tr style=\"text-align: right;\">\n",
       "      <th></th>\n",
       "      <th>name</th>\n",
       "      <th>city</th>\n",
       "      <th>cuisine_style</th>\n",
       "      <th>ranking</th>\n",
       "      <th>rating</th>\n",
       "      <th>price_range</th>\n",
       "      <th>number_of_reviews</th>\n",
       "      <th>reviews</th>\n",
       "      <th>url_ta</th>\n",
       "      <th>id_ta</th>\n",
       "    </tr>\n",
       "  </thead>\n",
       "  <tbody>\n",
       "    <tr>\n",
       "      <th>0</th>\n",
       "      <td>Martine of Martine's Table</td>\n",
       "      <td>Amsterdam</td>\n",
       "      <td>['French', 'Dutch', 'European']</td>\n",
       "      <td>1.0</td>\n",
       "      <td>5.0</td>\n",
       "      <td>$$ - $$$</td>\n",
       "      <td>136.0</td>\n",
       "      <td>[['Just like home', 'A Warm Welcome to Wintry ...</td>\n",
       "      <td>/Restaurant_Review-g188590-d11752080-Reviews-M...</td>\n",
       "      <td>d11752080</td>\n",
       "    </tr>\n",
       "    <tr>\n",
       "      <th>1</th>\n",
       "      <td>De Silveren Spiegel</td>\n",
       "      <td>Amsterdam</td>\n",
       "      <td>['Dutch', 'European', 'Vegetarian Friendly', '...</td>\n",
       "      <td>2.0</td>\n",
       "      <td>4.5</td>\n",
       "      <td>$$$$</td>\n",
       "      <td>812.0</td>\n",
       "      <td>[['Great food and staff', 'just perfect'], ['0...</td>\n",
       "      <td>/Restaurant_Review-g188590-d693419-Reviews-De_...</td>\n",
       "      <td>d693419</td>\n",
       "    </tr>\n",
       "  </tbody>\n",
       "</table>\n",
       "</div>"
      ],
      "text/plain": [
       "                         name       city  \\\n",
       "0  Martine of Martine's Table  Amsterdam   \n",
       "1         De Silveren Spiegel  Amsterdam   \n",
       "\n",
       "                                       cuisine_style  ranking  rating  \\\n",
       "0                    ['French', 'Dutch', 'European']      1.0     5.0   \n",
       "1  ['Dutch', 'European', 'Vegetarian Friendly', '...      2.0     4.5   \n",
       "\n",
       "  price_range  number_of_reviews  \\\n",
       "0    $$ - $$$              136.0   \n",
       "1        $$$$              812.0   \n",
       "\n",
       "                                             reviews  \\\n",
       "0  [['Just like home', 'A Warm Welcome to Wintry ...   \n",
       "1  [['Great food and staff', 'just perfect'], ['0...   \n",
       "\n",
       "                                              url_ta      id_ta  \n",
       "0  /Restaurant_Review-g188590-d11752080-Reviews-M...  d11752080  \n",
       "1  /Restaurant_Review-g188590-d693419-Reviews-De_...    d693419  "
      ]
     },
     "execution_count": 3,
     "metadata": {},
     "output_type": "execute_result"
    }
   ],
   "source": [
    "old_column_name = list(dataset.columns)\n",
    "new_column_name = []\n",
    "for i in range(dataset.shape[1]):\n",
    "    word = dataset.columns[i].lower()\n",
    "    word = re.sub(' ', '_', word)\n",
    "    new_column_name.append(word)\n",
    "\n",
    "print('old_column_name: ', old_column_name)\n",
    "print('\\nnew_column_name: ', new_column_name)\n",
    "\n",
    "\n",
    "\n",
    "\n",
    "# Rename the dataset columns\n",
    "for i in range(len(old_column_name)):\n",
    "    dataset = dataset.rename(columns={old_column_name[i] : new_column_name[i]})\n",
    "dataset.head(2)"
   ]
  },
  {
   "cell_type": "markdown",
   "metadata": {},
   "source": [
    "# 4. INITIAL NULL VALUES:"
   ]
  },
  {
   "cell_type": "code",
   "execution_count": 4,
   "metadata": {},
   "outputs": [
    {
     "data": {
      "text/plain": [
       "<matplotlib.axes._subplots.AxesSubplot at 0x285454ed9c8>"
      ]
     },
     "execution_count": 4,
     "metadata": {},
     "output_type": "execute_result"
    },
    {
     "data": {
      "image/png": "[encoded data removed]",
      "text/plain": [
       "<Figure size 1440x720 with 2 Axes>"
      ]
     },
     "metadata": {},
     "output_type": "display_data"
    }
   ],
   "source": [
    "sns.set(rc={'figure.figsize':(20, 10)})\n",
    "sns.set(font_scale=1.5) \n",
    "sns.heatmap(dataset.isnull(), yticklabels=False)\n"
   ]
  },
  {
   "cell_type": "code",
   "execution_count": 5,
   "metadata": {},
   "outputs": [
    {
     "name": "stdout",
     "output_type": "stream",
     "text": [
      "cuisine_style: 24 %\n",
      "ranking: 7 %\n",
      "rating: 7 %\n",
      "price_range: 38 %\n",
      "number_of_reviews: 13 %\n",
      "reviews: 7 %\n"
     ]
    }
   ],
   "source": [
    "print('cuisine_style:', int((dict(dataset['cuisine_style'].isna().value_counts())[True] / dataset.shape[0]) * 100), '%')\n",
    "print('ranking:', int((dict(dataset['ranking'].isna().value_counts())[True] / dataset.shape[0]) * 100), '%')\n",
    "print('rating:', int((dict(dataset['rating'].isna().value_counts())[True] / dataset.shape[0]) * 100), '%')\n",
    "print('price_range:', int((dict(dataset['price_range'].isna().value_counts())[True] / dataset.shape[0]) * 100), '%')\n",
    "print('number_of_reviews:', int((dict(dataset['number_of_reviews'].isna().value_counts())[True] / dataset.shape[0]) * 100), '%')\n",
    "print('reviews:', int((dict(dataset['reviews'].isna().value_counts())[True] / dataset.shape[0]) * 100), '%')\n"
   ]
  },
  {
   "cell_type": "markdown",
   "metadata": {},
   "source": [
    "# 5. NULL VALUES: `cuisine_style` "
   ]
  },
  {
   "cell_type": "code",
   "execution_count": 7,
   "metadata": {},
   "outputs": [],
   "source": [
    "# Python3 program to ways to convert \n",
    "# list enclosed within string to list \n",
    "\n",
    "def convert(lst): \n",
    "\treturn eval(lst) "
   ]
  },
  {
   "cell_type": "code",
   "execution_count": 8,
   "metadata": {},
   "outputs": [
    {
     "name": "stderr",
     "output_type": "stream",
     "text": [
      "100%|█████████████████████████████████████████████████████████████████████████| 125527/125527 [09:02<00:00, 231.32it/s]\n"
     ]
    }
   ],
   "source": [
    "# for i in tqdm(range(dataset.shape[0])):\n",
    "#     if type(dataset['cuisine_style'][i]) == str:\n",
    "#         temp_list = []\n",
    "#         for word in convert(dataset['cuisine_style'][i]):\n",
    "#             word = word.lower()\n",
    "#             word = re.sub(' ', '_', word)\n",
    "#             temp_list.append(word)\n",
    "#         dataset.loc[i, 'cuisine_style'] = str(temp_list)\n",
    "#     else:\n",
    "#         pass\n",
    "# dataset.to_csv(r'C:\\Users\\Abhijit\\Desktop\\DS\\iNuron\\RestaurantRatings\\check_point1.csv')"
   ]
  },
  {
   "cell_type": "code",
   "execution_count": 9,
   "metadata": {},
   "outputs": [],
   "source": [
    "dataset = pd.read_csv(r'C:\\Users\\Abhijit\\Desktop\\DS\\iNuron\\RestaurantRatings\\check_point1.csv')"
   ]
  },
  {
   "cell_type": "code",
   "execution_count": 10,
   "metadata": {},
   "outputs": [
    {
     "name": "stderr",
     "output_type": "stream",
     "text": [
      "100%|███████████████████████████████████████████████████████████████████████| 125527/125527 [00:04<00:00, 31108.15it/s]\n"
     ]
    }
   ],
   "source": [
    "cuisine_style_list = []\n",
    "for i in tqdm(range(dataset.shape[0])):\n",
    "    if type(dataset['cuisine_style'][i]) == str:\n",
    "        cuisine_style_list.extend(convert(dataset['cuisine_style'][i]))\n",
    "    else:\n",
    "        pass"
   ]
  },
  {
   "cell_type": "code",
   "execution_count": 11,
   "metadata": {},
   "outputs": [
    {
     "data": {
      "text/plain": [
       "False    94176\n",
       "True     31351\n",
       "Name: cuisine_style, dtype: int64"
      ]
     },
     "execution_count": 11,
     "metadata": {},
     "output_type": "execute_result"
    }
   ],
   "source": [
    "dataset['cuisine_style'].isna().value_counts()"
   ]
  },
  {
   "cell_type": "code",
   "execution_count": 12,
   "metadata": {},
   "outputs": [
    {
     "data": {
      "text/plain": [
       "{'vegetarian_friendly': 32361,\n",
       " 'european': 30228,\n",
       " 'mediterranean': 18428,\n",
       " 'italian': 17795,\n",
       " 'vegan_options': 13009,\n",
       " 'gluten_free_options': 12120,\n",
       " 'bar': 9690,\n",
       " 'french': 9558,\n",
       " 'asian': 9064,\n",
       " 'pizza': 8317,\n",
       " 'spanish': 8220,\n",
       " 'pub': 7404,\n",
       " 'cafe': 7392,\n",
       " 'fast_food': 5113,\n",
       " 'british': 4836,\n",
       " 'international': 4807,\n",
       " 'japanese': 4483,\n",
       " 'seafood': 4405,\n",
       " 'central_european': 4160,\n",
       " 'american': 4052,\n",
       " 'chinese': 3690,\n",
       " 'sushi': 3487,\n",
       " 'portuguese': 3296,\n",
       " 'indian': 3117,\n",
       " 'middle_eastern': 2339,\n",
       " 'thai': 2300,\n",
       " 'wine_bar': 2259,\n",
       " 'german': 2075,\n",
       " 'czech': 1937,\n",
       " 'greek': 1923,\n",
       " 'healthy': 1909,\n",
       " 'fusion': 1868,\n",
       " 'steakhouse': 1692,\n",
       " 'barbecue': 1676,\n",
       " 'halal': 1672,\n",
       " 'soups': 1653,\n",
       " 'contemporary': 1619,\n",
       " 'grill': 1592,\n",
       " 'vietnamese': 1574,\n",
       " 'eastern_european': 1470,\n",
       " 'gastropub': 1462,\n",
       " 'turkish': 1416,\n",
       " 'mexican': 1387,\n",
       " 'south_american': 1230,\n",
       " 'austrian': 1183,\n",
       " 'delicatessen': 1155,\n",
       " 'polish': 1122,\n",
       " 'hungarian': 1094,\n",
       " 'scandinavian': 1038,\n",
       " 'diner': 989,\n",
       " 'lebanese': 904,\n",
       " 'dutch': 888,\n",
       " 'street_food': 877,\n",
       " 'latin': 857,\n",
       " 'belgian': 848,\n",
       " 'irish': 832,\n",
       " 'brew_pub': 744,\n",
       " 'swiss': 547,\n",
       " 'swedish': 541,\n",
       " 'danish': 540,\n",
       " 'argentinean': 527,\n",
       " 'scottish': 512,\n",
       " 'korean': 509,\n",
       " 'african': 486,\n",
       " 'moroccan': 422,\n",
       " 'central_american': 382,\n",
       " 'brazilian': 377,\n",
       " 'peruvian': 342,\n",
       " 'caribbean': 330,\n",
       " 'pakistani': 302,\n",
       " 'nepali': 261,\n",
       " 'bangladeshi': 239,\n",
       " 'balti': 235,\n",
       " 'israeli': 222,\n",
       " 'norwegian': 222,\n",
       " 'persian': 218,\n",
       " 'slovenian': 180,\n",
       " 'arabic': 175,\n",
       " 'indonesian': 166,\n",
       " 'kosher': 165,\n",
       " 'russian': 158,\n",
       " 'ethiopian': 123,\n",
       " 'malaysian': 116,\n",
       " 'venezuelan': 113,\n",
       " 'australian': 87,\n",
       " 'colombian': 85,\n",
       " 'jamaican': 84,\n",
       " 'croatian': 84,\n",
       " 'cuban': 80,\n",
       " 'tunisian': 78,\n",
       " 'taiwanese': 74,\n",
       " 'tibetan': 73,\n",
       " 'afghani': 73,\n",
       " 'cajun_&_creole': 72,\n",
       " 'egyptian': 67,\n",
       " 'hawaiian': 66,\n",
       " 'sri_lankan': 58,\n",
       " 'southwestern': 57,\n",
       " 'cambodian': 49,\n",
       " 'filipino': 47,\n",
       " 'ukrainian': 45,\n",
       " 'singaporean': 44,\n",
       " 'armenian': 42,\n",
       " 'georgian': 36,\n",
       " 'minority_chinese': 34,\n",
       " 'romanian': 33,\n",
       " 'mongolian': 33,\n",
       " 'central_asian': 31,\n",
       " 'chilean': 28,\n",
       " 'ecuadorean': 23,\n",
       " 'albanian': 21,\n",
       " 'canadian': 20,\n",
       " 'new_zealand': 15,\n",
       " 'caucasian': 15,\n",
       " 'native_american': 12,\n",
       " 'polynesian': 8,\n",
       " 'uzbek': 7,\n",
       " 'fujian': 6,\n",
       " 'azerbaijani': 6,\n",
       " 'yunnan': 5,\n",
       " 'burmese': 5,\n",
       " 'welsh': 5,\n",
       " 'salvadoran': 4,\n",
       " 'xinjiang': 3,\n",
       " 'latvian': 3,\n",
       " 'guatemalan': 3,\n",
       " 'puerto_rican': 2}"
      ]
     },
     "execution_count": 12,
     "metadata": {},
     "output_type": "execute_result"
    }
   ],
   "source": [
    "unique_cuisine_style_dict = dict(Counter(cuisine_style_list))\n",
    "unique_cuisine_style_dict = dict(sorted(unique_cuisine_style_dict.items(), key=operator.itemgetter(1), reverse=True))\n",
    "unique_cuisine_style_dict"
   ]
  },
  {
   "cell_type": "code",
   "execution_count": 17,
   "metadata": {},
   "outputs": [
    {
     "name": "stderr",
     "output_type": "stream",
     "text": [
      "100%|████████████████████████████████████████████████████████████████████████| 125527/125527 [01:27<00:00, 1437.48it/s]\n"
     ]
    }
   ],
   "source": [
    "for i in tqdm(range(dataset.shape[0])):\n",
    "    if type(dataset['cuisine_style'][i]) == str:\n",
    "        pass\n",
    "    else:\n",
    "        dataset.loc[i, 'cuisine_style'] = str(['vegetarian_friendly'])"
   ]
  },
  {
   "cell_type": "code",
   "execution_count": 18,
   "metadata": {},
   "outputs": [
    {
     "data": {
      "text/plain": [
       "<matplotlib.axes._subplots.AxesSubplot at 0x285523df288>"
      ]
     },
     "execution_count": 18,
     "metadata": {},
     "output_type": "execute_result"
    },
    {
     "data": {
      "image/png": "[encoded data removed]",
      "text/plain": [
       "<Figure size 1440x720 with 2 Axes>"
      ]
     },
     "metadata": {},
     "output_type": "display_data"
    }
   ],
   "source": [
    "sns.set(rc={'figure.figsize':(20, 10)})\n",
    "sns.set(font_scale=1.5) \n",
    "sns.heatmap(dataset.isnull(), yticklabels=False)\n"
   ]
  },
  {
   "cell_type": "code",
   "execution_count": 220,
   "metadata": {},
   "outputs": [],
   "source": [
    "# dataset.to_csv(r'C:\\Users\\Abhijit\\Desktop\\DS\\iNuron\\RestaurantRatings\\check_point2.csv')\n",
    "dataset = pd.read_csv(r'C:\\Users\\Abhijit\\Desktop\\DS\\iNuron\\RestaurantRatings\\check_point2.csv')"
   ]
  },
  {
   "cell_type": "markdown",
   "metadata": {},
   "source": [
    "# 6. NULL VALUES: `number_of_reviews`"
   ]
  },
  {
   "cell_type": "code",
   "execution_count": 221,
   "metadata": {},
   "outputs": [
    {
     "data": {
      "text/plain": [
       "False    108183\n",
       "True      17344\n",
       "Name: number_of_reviews, dtype: int64"
      ]
     },
     "execution_count": 221,
     "metadata": {},
     "output_type": "execute_result"
    }
   ],
   "source": [
    "dataset['number_of_reviews'].isna().value_counts()\n"
   ]
  },
  {
   "cell_type": "code",
   "execution_count": 222,
   "metadata": {},
   "outputs": [
    {
     "data": {
      "text/plain": [
       "0         136.0\n",
       "1         812.0\n",
       "2         567.0\n",
       "3         564.0\n",
       "4         316.0\n",
       "          ...  \n",
       "125522      NaN\n",
       "125523      NaN\n",
       "125524      NaN\n",
       "125525      NaN\n",
       "125526      NaN\n",
       "Name: number_of_reviews, Length: 125527, dtype: float64"
      ]
     },
     "execution_count": 222,
     "metadata": {},
     "output_type": "execute_result"
    }
   ],
   "source": [
    "dataset['number_of_reviews']"
   ]
  },
  {
   "cell_type": "code",
   "execution_count": 223,
   "metadata": {},
   "outputs": [],
   "source": [
    "dataset['number_of_reviews'] = dataset['number_of_reviews'].fillna(dataset['number_of_reviews'].mean())"
   ]
  },
  {
   "cell_type": "code",
   "execution_count": 224,
   "metadata": {},
   "outputs": [
    {
     "data": {
      "text/plain": [
       "<matplotlib.axes._subplots.AxesSubplot at 0x285680a2d08>"
      ]
     },
     "execution_count": 224,
     "metadata": {},
     "output_type": "execute_result"
    },
    {
     "data": {
      "image/png": "[encoded data removed]",
      "text/plain": [
       "<Figure size 1440x720 with 2 Axes>"
      ]
     },
     "metadata": {},
     "output_type": "display_data"
    }
   ],
   "source": [
    "sns.set(rc={'figure.figsize':(20, 10)})\n",
    "sns.set(font_scale=1.5) \n",
    "sns.heatmap(dataset.isnull(), yticklabels=False)\n"
   ]
  },
  {
   "cell_type": "markdown",
   "metadata": {},
   "source": [
    "# 7. NULL VALUES: `price_range`"
   ]
  },
  {
   "cell_type": "code",
   "execution_count": 225,
   "metadata": {},
   "outputs": [
    {
     "data": {
      "text/plain": [
       "False    77672\n",
       "True     47855\n",
       "Name: price_range, dtype: int64"
      ]
     },
     "execution_count": 225,
     "metadata": {},
     "output_type": "execute_result"
    }
   ],
   "source": [
    "dataset['price_range'].isna().value_counts()"
   ]
  },
  {
   "cell_type": "code",
   "execution_count": 226,
   "metadata": {},
   "outputs": [],
   "source": [
    "dataset['price_range'] = dataset['price_range'].fillna(dataset['price_range'].mode()[0])"
   ]
  },
  {
   "cell_type": "code",
   "execution_count": 227,
   "metadata": {},
   "outputs": [
    {
     "data": {
      "text/plain": [
       "<matplotlib.axes._subplots.AxesSubplot at 0x28558f67dc8>"
      ]
     },
     "execution_count": 227,
     "metadata": {},
     "output_type": "execute_result"
    },
    {
     "data": {
      "image/png": "[encoded data removed]",
      "text/plain": [
       "<Figure size 1440x720 with 2 Axes>"
      ]
     },
     "metadata": {},
     "output_type": "display_data"
    }
   ],
   "source": [
    "sns.set(rc={'figure.figsize':(20, 10)})\n",
    "sns.set(font_scale=1.5) \n",
    "sns.heatmap(dataset.isnull(), yticklabels=False)\n"
   ]
  },
  {
   "cell_type": "markdown",
   "metadata": {},
   "source": [
    "# 8. NULL VALUES: `reviews`"
   ]
  },
  {
   "cell_type": "code",
   "execution_count": 228,
   "metadata": {},
   "outputs": [
    {
     "data": {
      "text/plain": [
       "0         [['Just like home', 'A Warm Welcome to Wintry ...\n",
       "1         [['Great food and staff', 'just perfect'], ['0...\n",
       "2         [['Satisfaction', 'Delicious old school restau...\n",
       "3         [['True five star dinner', 'A superb evening o...\n",
       "4         [['Best meal.... EVER', 'super food experience...\n",
       "                                ...                        \n",
       "125522                                                  NaN\n",
       "125523                                                  NaN\n",
       "125524                                                  NaN\n",
       "125525                                                  NaN\n",
       "125526                                                  NaN\n",
       "Name: reviews, Length: 125527, dtype: object"
      ]
     },
     "execution_count": 228,
     "metadata": {},
     "output_type": "execute_result"
    }
   ],
   "source": [
    "dataset['reviews']"
   ]
  },
  {
   "cell_type": "code",
   "execution_count": 229,
   "metadata": {},
   "outputs": [
    {
     "data": {
      "text/plain": [
       "False    115911\n",
       "True       9616\n",
       "Name: reviews, dtype: int64"
      ]
     },
     "execution_count": 229,
     "metadata": {},
     "output_type": "execute_result"
    }
   ],
   "source": [
    "dataset['reviews'].isna().value_counts()"
   ]
  },
  {
   "cell_type": "code",
   "execution_count": 230,
   "metadata": {},
   "outputs": [],
   "source": [
    "# dataset['reviews'].dropna(axis=0, inplace=True)\n",
    "dataset = dataset[dataset['reviews'].notna()]"
   ]
  },
  {
   "cell_type": "code",
   "execution_count": 231,
   "metadata": {},
   "outputs": [
    {
     "data": {
      "text/plain": [
       "0         [['Just like home', 'A Warm Welcome to Wintry ...\n",
       "1         [['Great food and staff', 'just perfect'], ['0...\n",
       "2         [['Satisfaction', 'Delicious old school restau...\n",
       "3         [['True five star dinner', 'A superb evening o...\n",
       "4         [['Best meal.... EVER', 'super food experience...\n",
       "                                ...                        \n",
       "125450                                             [[], []]\n",
       "125451    [['Poor quality, small portions, miserable st....\n",
       "125452                                             [[], []]\n",
       "125453                                             [[], []]\n",
       "125454                                             [[], []]\n",
       "Name: reviews, Length: 115911, dtype: object"
      ]
     },
     "execution_count": 231,
     "metadata": {},
     "output_type": "execute_result"
    }
   ],
   "source": [
    "dataset['reviews']"
   ]
  },
  {
   "cell_type": "code",
   "execution_count": 232,
   "metadata": {},
   "outputs": [
    {
     "data": {
      "text/plain": [
       "False    115911\n",
       "Name: reviews, dtype: int64"
      ]
     },
     "execution_count": 232,
     "metadata": {},
     "output_type": "execute_result"
    }
   ],
   "source": [
    "dataset['reviews'].isna().value_counts()"
   ]
  },
  {
   "cell_type": "code",
   "execution_count": 233,
   "metadata": {},
   "outputs": [
    {
     "data": {
      "text/plain": [
       "Unnamed: 0             0\n",
       "Unnamed: 0.1           0\n",
       "name                   0\n",
       "city                   0\n",
       "cuisine_style          0\n",
       "ranking              164\n",
       "rating                19\n",
       "price_range            0\n",
       "number_of_reviews      0\n",
       "reviews                0\n",
       "url_ta                 0\n",
       "id_ta                  0\n",
       "dtype: int64"
      ]
     },
     "execution_count": 233,
     "metadata": {},
     "output_type": "execute_result"
    }
   ],
   "source": [
    "dataset.isna().sum()"
   ]
  },
  {
   "cell_type": "code",
   "execution_count": 234,
   "metadata": {},
   "outputs": [
    {
     "data": {
      "text/plain": [
       "<matplotlib.axes._subplots.AxesSubplot at 0x28588a83d08>"
      ]
     },
     "execution_count": 234,
     "metadata": {},
     "output_type": "execute_result"
    },
    {
     "data": {
      "image/png": "[encoded data removed]",
      "text/plain": [
       "<Figure size 1440x720 with 2 Axes>"
      ]
     },
     "metadata": {},
     "output_type": "display_data"
    }
   ],
   "source": [
    "sns.set(rc={'figure.figsize':(20, 10)})\n",
    "sns.set(font_scale=1.5) \n",
    "sns.heatmap(dataset.isnull(), yticklabels=False)\n"
   ]
  },
  {
   "cell_type": "markdown",
   "metadata": {},
   "source": [
    "# 8. NULL VALUES: `reviews`"
   ]
  },
  {
   "cell_type": "code",
   "execution_count": 235,
   "metadata": {},
   "outputs": [
    {
     "data": {
      "text/plain": [
       "0            1.0\n",
       "1            2.0\n",
       "2            3.0\n",
       "3            4.0\n",
       "4            5.0\n",
       "           ...  \n",
       "125450    1596.0\n",
       "125451    1597.0\n",
       "125452    1598.0\n",
       "125453    1601.0\n",
       "125454       NaN\n",
       "Name: ranking, Length: 115911, dtype: float64"
      ]
     },
     "execution_count": 235,
     "metadata": {},
     "output_type": "execute_result"
    }
   ],
   "source": [
    "dataset['ranking']"
   ]
  },
  {
   "cell_type": "code",
   "execution_count": 236,
   "metadata": {},
   "outputs": [],
   "source": [
    "dataset = dataset[dataset['ranking'].notna()]"
   ]
  },
  {
   "cell_type": "code",
   "execution_count": 237,
   "metadata": {},
   "outputs": [
    {
     "data": {
      "text/plain": [
       "<matplotlib.axes._subplots.AxesSubplot at 0x28561c9c848>"
      ]
     },
     "execution_count": 237,
     "metadata": {},
     "output_type": "execute_result"
    },
    {
     "data": {
      "image/png": "[encoded data removed]",
      "text/plain": [
       "<Figure size 1440x720 with 2 Axes>"
      ]
     },
     "metadata": {},
     "output_type": "display_data"
    }
   ],
   "source": [
    "sns.set(rc={'figure.figsize':(20, 10)})\n",
    "sns.set(font_scale=1.5) \n",
    "sns.heatmap(dataset.isnull(), yticklabels=False)\n"
   ]
  },
  {
   "cell_type": "code",
   "execution_count": 238,
   "metadata": {},
   "outputs": [
    {
     "data": {
      "text/plain": [
       "Unnamed: 0           0\n",
       "Unnamed: 0.1         0\n",
       "name                 0\n",
       "city                 0\n",
       "cuisine_style        0\n",
       "ranking              0\n",
       "rating               0\n",
       "price_range          0\n",
       "number_of_reviews    0\n",
       "reviews              0\n",
       "url_ta               0\n",
       "id_ta                0\n",
       "dtype: int64"
      ]
     },
     "execution_count": 238,
     "metadata": {},
     "output_type": "execute_result"
    }
   ],
   "source": [
    "dataset.isna().sum()"
   ]
  },
  {
   "cell_type": "code",
   "execution_count": null,
   "metadata": {},
   "outputs": [],
   "source": []
  },
  {
   "cell_type": "code",
   "execution_count": null,
   "metadata": {},
   "outputs": [],
   "source": []
  },
  {
   "cell_type": "code",
   "execution_count": null,
   "metadata": {},
   "outputs": [],
   "source": []
  },
  {
   "cell_type": "code",
   "execution_count": null,
   "metadata": {},
   "outputs": [],
   "source": []
  },
  {
   "cell_type": "code",
   "execution_count": null,
   "metadata": {},
   "outputs": [],
   "source": []
  },
  {
   "cell_type": "code",
   "execution_count": null,
   "metadata": {},
   "outputs": [],
   "source": []
  },
  {
   "cell_type": "code",
   "execution_count": null,
   "metadata": {},
   "outputs": [],
   "source": []
  },
  {
   "cell_type": "code",
   "execution_count": null,
   "metadata": {},
   "outputs": [],
   "source": []
  },
  {
   "cell_type": "code",
   "execution_count": null,
   "metadata": {},
   "outputs": [],
   "source": []
  },
  {
   "cell_type": "code",
   "execution_count": null,
   "metadata": {},
   "outputs": [],
   "source": []
  },
  {
   "cell_type": "code",
   "execution_count": null,
   "metadata": {},
   "outputs": [],
   "source": []
  },
  {
   "cell_type": "code",
   "execution_count": null,
   "metadata": {},
   "outputs": [],
   "source": []
  },
  {
   "cell_type": "code",
   "execution_count": null,
   "metadata": {},
   "outputs": [],
   "source": []
  },
  {
   "cell_type": "code",
   "execution_count": null,
   "metadata": {},
   "outputs": [],
   "source": []
  },
  {
   "cell_type": "code",
   "execution_count": null,
   "metadata": {},
   "outputs": [],
   "source": []
  },
  {
   "cell_type": "code",
   "execution_count": null,
   "metadata": {},
   "outputs": [],
   "source": []
  },
  {
   "cell_type": "code",
   "execution_count": null,
   "metadata": {},
   "outputs": [],
   "source": []
  },
  {
   "cell_type": "code",
   "execution_count": null,
   "metadata": {},
   "outputs": [],
   "source": []
  },
  {
   "cell_type": "code",
   "execution_count": null,
   "metadata": {},
   "outputs": [],
   "source": []
  },
  {
   "cell_type": "code",
   "execution_count": null,
   "metadata": {},
   "outputs": [],
   "source": []
  },
  {
   "cell_type": "code",
   "execution_count": null,
   "metadata": {},
   "outputs": [],
   "source": []
  },
  {
   "cell_type": "code",
   "execution_count": null,
   "metadata": {},
   "outputs": [],
   "source": []
  },
  {
   "cell_type": "code",
   "execution_count": null,
   "metadata": {},
   "outputs": [],
   "source": []
  },
  {
   "cell_type": "code",
   "execution_count": null,
   "metadata": {},
   "outputs": [],
   "source": []
  },
  {
   "cell_type": "code",
   "execution_count": null,
   "metadata": {},
   "outputs": [],
   "source": []
  },
  {
   "cell_type": "code",
   "execution_count": null,
   "metadata": {},
   "outputs": [],
   "source": []
  },
  {
   "cell_type": "code",
   "execution_count": null,
   "metadata": {},
   "outputs": [],
   "source": []
  },
  {
   "cell_type": "code",
   "execution_count": null,
   "metadata": {},
   "outputs": [],
   "source": []
  },
  {
   "cell_type": "code",
   "execution_count": null,
   "metadata": {},
   "outputs": [],
   "source": []
  },
  {
   "cell_type": "code",
   "execution_count": null,
   "metadata": {},
   "outputs": [],
   "source": []
  },
  {
   "cell_type": "code",
   "execution_count": null,
   "metadata": {},
   "outputs": [],
   "source": []
  },
  {
   "cell_type": "code",
   "execution_count": null,
   "metadata": {},
   "outputs": [],
   "source": []
  },
  {
   "cell_type": "code",
   "execution_count": null,
   "metadata": {},
   "outputs": [],
   "source": []
  },
  {
   "cell_type": "code",
   "execution_count": null,
   "metadata": {},
   "outputs": [],
   "source": []
  },
  {
   "cell_type": "code",
   "execution_count": null,
   "metadata": {},
   "outputs": [],
   "source": []
  },
  {
   "cell_type": "code",
   "execution_count": null,
   "metadata": {},
   "outputs": [],
   "source": []
  },
  {
   "cell_type": "code",
   "execution_count": null,
   "metadata": {},
   "outputs": [],
   "source": []
  },
  {
   "cell_type": "code",
   "execution_count": null,
   "metadata": {},
   "outputs": [],
   "source": []
  },
  {
   "cell_type": "code",
   "execution_count": null,
   "metadata": {},
   "outputs": [],
   "source": []
  },
  {
   "cell_type": "code",
   "execution_count": null,
   "metadata": {},
   "outputs": [],
   "source": []
  }
 ],
 "metadata": {
  "kernelspec": {
   "display_name": "Python 3",
   "language": "python",
   "name": "python3"
  },
  "language_info": {
   "codemirror_mode": {
    "name": "ipython",
    "version": 3
   },
   "file_extension": ".py",
   "mimetype": "text/x-python",
   "name": "python",
   "nbconvert_exporter": "python",
   "pygments_lexer": "ipython3",
   "version": "3.7.6"
  }
 },
 "nbformat": 4,
 "nbformat_minor": 4
}
