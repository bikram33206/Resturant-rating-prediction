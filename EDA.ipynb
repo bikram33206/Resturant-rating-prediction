{
  "nbformat": 4,
  "nbformat_minor": 0,
  "metadata": {
    "colab": {
      "name": "EDA.ipyn",
      "provenance": [],
      "collapsed_sections": [
        "0QZ3m2njHz58",
        "7Tji3JRCIBmN",
        "juiF34TTITtf",
        "sGRvsKZ5R6af"
      ]
    },
    "kernelspec": {
      "name": "python3",
      "display_name": "Python 3"
    }
  },
  "cells": [
    {
      "cell_type": "markdown",
      "metadata": {
        "id": "0QZ3m2njHz58",
        "colab_type": "text"
      },
      "source": [
        "# **IMporting** **Libraries**"
      ]
    },
    {
      "cell_type": "code",
      "metadata": {
        "id": "WK5IO5AZCBlx",
        "colab_type": "code",
        "colab": {
          "base_uri": "https://localhost:8080/",
          "height": 71
        },
        "outputId": "11b31609-e7ce-4f75-c7fe-63fff2b8dc2a"
      },
      "source": [
        "import pandas as pd\n",
        "import numpy as np\n",
        "import matplotlib.pyplot as plt\n",
        "import re\n",
        "import seaborn as sns\n",
        "import operator\n",
        "\n",
        "\n",
        "from collections import Counter\n",
        "from tqdm import tqdm"
      ],
      "execution_count": 1,
      "outputs": [
        {
          "output_type": "stream",
          "text": [
            "/usr/local/lib/python3.6/dist-packages/statsmodels/tools/_testing.py:19: FutureWarning: pandas.util.testing is deprecated. Use the functions in the public API at pandas.testing instead.\n",
            "  import pandas.util.testing as tm\n"
          ],
          "name": "stderr"
        }
      ]
    },
    {
      "cell_type": "code",
      "metadata": {
        "id": "qMvTjB9UcODY",
        "colab_type": "code",
        "outputId": "f0f0dfac-d5ca-4a5a-bdb1-9af71c854626",
        "colab": {
          "base_uri": "https://localhost:8080/",
          "height": 34
        }
      },
      "source": [
        "from google.colab import drive\n",
        "drive.mount('/content/drive')"
      ],
      "execution_count": 3,
      "outputs": [
        {
          "output_type": "stream",
          "text": [
            "Drive already mounted at /content/drive; to attempt to forcibly remount, call drive.mount(\"/content/drive\", force_remount=True).\n"
          ],
          "name": "stdout"
        }
      ]
    },
    {
      "cell_type": "markdown",
      "metadata": {
        "id": "7Tji3JRCIBmN",
        "colab_type": "text"
      },
      "source": [
        "# **Reading** **Dataset**"
      ]
    },
    {
      "cell_type": "code",
      "metadata": {
        "id": "8wKji-hMCqH5",
        "colab_type": "code",
        "outputId": "6366faeb-a63d-412f-d2d4-baa908dbfc85",
        "colab": {
          "base_uri": "https://localhost:8080/",
          "height": 162
        }
      },
      "source": [
        "dataset=pd.read_csv('/content/drive/My Drive/TA_restaurants_curated.csv')\n",
        "dataset.head()\n",
        "dataset=dataset.drop(['Unnamed: 0'],axis=1)\n",
        "dataset.head(2)"
      ],
      "execution_count": 4,
      "outputs": [
        {
          "output_type": "execute_result",
          "data": {
            "text/html": [
              "<div>\n",
              "<style scoped>\n",
              "    .dataframe tbody tr th:only-of-type {\n",
              "        vertical-align: middle;\n",
              "    }\n",
              "\n",
              "    .dataframe tbody tr th {\n",
              "        vertical-align: top;\n",
              "    }\n",
              "\n",
              "    .dataframe thead th {\n",
              "        text-align: right;\n",
              "    }\n",
              "</style>\n",
              "<table border=\"1\" class=\"dataframe\">\n",
              "  <thead>\n",
              "    <tr style=\"text-align: right;\">\n",
              "      <th></th>\n",
              "      <th>Name</th>\n",
              "      <th>City</th>\n",
              "      <th>Cuisine Style</th>\n",
              "      <th>Ranking</th>\n",
              "      <th>Rating</th>\n",
              "      <th>Price Range</th>\n",
              "      <th>Number of Reviews</th>\n",
              "      <th>Reviews</th>\n",
              "      <th>URL_TA</th>\n",
              "      <th>ID_TA</th>\n",
              "    </tr>\n",
              "  </thead>\n",
              "  <tbody>\n",
              "    <tr>\n",
              "      <th>0</th>\n",
              "      <td>Martine of Martine's Table</td>\n",
              "      <td>Amsterdam</td>\n",
              "      <td>['French', 'Dutch', 'European']</td>\n",
              "      <td>1.0</td>\n",
              "      <td>5.0</td>\n",
              "      <td>$$ - $$$</td>\n",
              "      <td>136.0</td>\n",
              "      <td>[['Just like home', 'A Warm Welcome to Wintry ...</td>\n",
              "      <td>/Restaurant_Review-g188590-d11752080-Reviews-M...</td>\n",
              "      <td>d11752080</td>\n",
              "    </tr>\n",
              "    <tr>\n",
              "      <th>1</th>\n",
              "      <td>De Silveren Spiegel</td>\n",
              "      <td>Amsterdam</td>\n",
              "      <td>['Dutch', 'European', 'Vegetarian Friendly', '...</td>\n",
              "      <td>2.0</td>\n",
              "      <td>4.5</td>\n",
              "      <td>$$$$</td>\n",
              "      <td>812.0</td>\n",
              "      <td>[['Great food and staff', 'just perfect'], ['0...</td>\n",
              "      <td>/Restaurant_Review-g188590-d693419-Reviews-De_...</td>\n",
              "      <td>d693419</td>\n",
              "    </tr>\n",
              "  </tbody>\n",
              "</table>\n",
              "</div>"
            ],
            "text/plain": [
              "                         Name  ...      ID_TA\n",
              "0  Martine of Martine's Table  ...  d11752080\n",
              "1         De Silveren Spiegel  ...    d693419\n",
              "\n",
              "[2 rows x 10 columns]"
            ]
          },
          "metadata": {
            "tags": []
          },
          "execution_count": 4
        }
      ]
    },
    {
      "cell_type": "markdown",
      "metadata": {
        "id": "dVuuO7yqIiQN",
        "colab_type": "text"
      },
      "source": [
        "Removing Columns\n"
      ]
    },
    {
      "cell_type": "code",
      "metadata": {
        "id": "wg0Tc_vlEkaY",
        "colab_type": "code",
        "outputId": "3d7ced54-ddb8-488d-891c-e671e062a94a",
        "colab": {
          "base_uri": "https://localhost:8080/",
          "height": 162
        }
      },
      "source": [
        "dataset=dataset.drop(['URL_TA','ID_TA'],axis=1)\n",
        "dataset.head(2)"
      ],
      "execution_count": 5,
      "outputs": [
        {
          "output_type": "execute_result",
          "data": {
            "text/html": [
              "<div>\n",
              "<style scoped>\n",
              "    .dataframe tbody tr th:only-of-type {\n",
              "        vertical-align: middle;\n",
              "    }\n",
              "\n",
              "    .dataframe tbody tr th {\n",
              "        vertical-align: top;\n",
              "    }\n",
              "\n",
              "    .dataframe thead th {\n",
              "        text-align: right;\n",
              "    }\n",
              "</style>\n",
              "<table border=\"1\" class=\"dataframe\">\n",
              "  <thead>\n",
              "    <tr style=\"text-align: right;\">\n",
              "      <th></th>\n",
              "      <th>Name</th>\n",
              "      <th>City</th>\n",
              "      <th>Cuisine Style</th>\n",
              "      <th>Ranking</th>\n",
              "      <th>Rating</th>\n",
              "      <th>Price Range</th>\n",
              "      <th>Number of Reviews</th>\n",
              "      <th>Reviews</th>\n",
              "    </tr>\n",
              "  </thead>\n",
              "  <tbody>\n",
              "    <tr>\n",
              "      <th>0</th>\n",
              "      <td>Martine of Martine's Table</td>\n",
              "      <td>Amsterdam</td>\n",
              "      <td>['French', 'Dutch', 'European']</td>\n",
              "      <td>1.0</td>\n",
              "      <td>5.0</td>\n",
              "      <td>$$ - $$$</td>\n",
              "      <td>136.0</td>\n",
              "      <td>[['Just like home', 'A Warm Welcome to Wintry ...</td>\n",
              "    </tr>\n",
              "    <tr>\n",
              "      <th>1</th>\n",
              "      <td>De Silveren Spiegel</td>\n",
              "      <td>Amsterdam</td>\n",
              "      <td>['Dutch', 'European', 'Vegetarian Friendly', '...</td>\n",
              "      <td>2.0</td>\n",
              "      <td>4.5</td>\n",
              "      <td>$$$$</td>\n",
              "      <td>812.0</td>\n",
              "      <td>[['Great food and staff', 'just perfect'], ['0...</td>\n",
              "    </tr>\n",
              "  </tbody>\n",
              "</table>\n",
              "</div>"
            ],
            "text/plain": [
              "                         Name  ...                                            Reviews\n",
              "0  Martine of Martine's Table  ...  [['Just like home', 'A Warm Welcome to Wintry ...\n",
              "1         De Silveren Spiegel  ...  [['Great food and staff', 'just perfect'], ['0...\n",
              "\n",
              "[2 rows x 8 columns]"
            ]
          },
          "metadata": {
            "tags": []
          },
          "execution_count": 5
        }
      ]
    },
    {
      "cell_type": "code",
      "metadata": {
        "id": "UV2FWrVDOeMe",
        "colab_type": "code",
        "outputId": "1b5da309-4dd0-4669-81ce-5b2581cddd34",
        "colab": {
          "base_uri": "https://localhost:8080/",
          "height": 196
        }
      },
      "source": [
        "old_column_name = list(dataset.columns)\n",
        "new_column_name = []\n",
        "for i in range(dataset.shape[1]):\n",
        "    word = dataset.columns[i].lower()\n",
        "    word = re.sub(' ', '_', word)\n",
        "    new_column_name.append(word)\n",
        "\n",
        "print('old_column_name: ', old_column_name)\n",
        "print('\\nnew_column_name: ', new_column_name)\n",
        "\n",
        "\n",
        "\n",
        "\n",
        "# Rename the dataset columns\n",
        "for i in range(len(old_column_name)):\n",
        "    dataset = dataset.rename(columns={old_column_name[i] : new_column_name[i]})\n",
        "dataset.head(2)"
      ],
      "execution_count": 6,
      "outputs": [
        {
          "output_type": "stream",
          "text": [
            "old_column_name:  ['Name', 'City', 'Cuisine Style', 'Ranking', 'Rating', 'Price Range', 'Number of Reviews', 'Reviews']\n",
            "\n",
            "new_column_name:  ['name', 'city', 'cuisine_style', 'ranking', 'rating', 'price_range', 'number_of_reviews', 'reviews']\n"
          ],
          "name": "stdout"
        },
        {
          "output_type": "execute_result",
          "data": {
            "text/html": [
              "<div>\n",
              "<style scoped>\n",
              "    .dataframe tbody tr th:only-of-type {\n",
              "        vertical-align: middle;\n",
              "    }\n",
              "\n",
              "    .dataframe tbody tr th {\n",
              "        vertical-align: top;\n",
              "    }\n",
              "\n",
              "    .dataframe thead th {\n",
              "        text-align: right;\n",
              "    }\n",
              "</style>\n",
              "<table border=\"1\" class=\"dataframe\">\n",
              "  <thead>\n",
              "    <tr style=\"text-align: right;\">\n",
              "      <th></th>\n",
              "      <th>name</th>\n",
              "      <th>city</th>\n",
              "      <th>cuisine_style</th>\n",
              "      <th>ranking</th>\n",
              "      <th>rating</th>\n",
              "      <th>price_range</th>\n",
              "      <th>number_of_reviews</th>\n",
              "      <th>reviews</th>\n",
              "    </tr>\n",
              "  </thead>\n",
              "  <tbody>\n",
              "    <tr>\n",
              "      <th>0</th>\n",
              "      <td>Martine of Martine's Table</td>\n",
              "      <td>Amsterdam</td>\n",
              "      <td>['French', 'Dutch', 'European']</td>\n",
              "      <td>1.0</td>\n",
              "      <td>5.0</td>\n",
              "      <td>$$ - $$$</td>\n",
              "      <td>136.0</td>\n",
              "      <td>[['Just like home', 'A Warm Welcome to Wintry ...</td>\n",
              "    </tr>\n",
              "    <tr>\n",
              "      <th>1</th>\n",
              "      <td>De Silveren Spiegel</td>\n",
              "      <td>Amsterdam</td>\n",
              "      <td>['Dutch', 'European', 'Vegetarian Friendly', '...</td>\n",
              "      <td>2.0</td>\n",
              "      <td>4.5</td>\n",
              "      <td>$$$$</td>\n",
              "      <td>812.0</td>\n",
              "      <td>[['Great food and staff', 'just perfect'], ['0...</td>\n",
              "    </tr>\n",
              "  </tbody>\n",
              "</table>\n",
              "</div>"
            ],
            "text/plain": [
              "                         name  ...                                            reviews\n",
              "0  Martine of Martine's Table  ...  [['Just like home', 'A Warm Welcome to Wintry ...\n",
              "1         De Silveren Spiegel  ...  [['Great food and staff', 'just perfect'], ['0...\n",
              "\n",
              "[2 rows x 8 columns]"
            ]
          },
          "metadata": {
            "tags": []
          },
          "execution_count": 6
        }
      ]
    },
    {
      "cell_type": "markdown",
      "metadata": {
        "id": "juiF34TTITtf",
        "colab_type": "text"
      },
      "source": [
        "# **Target** **column**"
      ]
    },
    {
      "cell_type": "code",
      "metadata": {
        "id": "fXWH_fedHMhP",
        "colab_type": "code",
        "colab": {}
      },
      "source": [
        "y=dataset['rating']"
      ],
      "execution_count": 0,
      "outputs": []
    },
    {
      "cell_type": "markdown",
      "metadata": {
        "id": "NqZY4MQJHyqO",
        "colab_type": "text"
      },
      "source": [
        "# **Daata** **Preprocessing**"
      ]
    },
    {
      "cell_type": "markdown",
      "metadata": {
        "id": "sGRvsKZ5R6af",
        "colab_type": "text"
      },
      "source": [
        "## **EDA**"
      ]
    },
    {
      "cell_type": "markdown",
      "metadata": {
        "id": "3E2cK6cjNp7F",
        "colab_type": "text"
      },
      "source": [
        " **NULL** **VALUES**"
      ]
    },
    {
      "cell_type": "code",
      "metadata": {
        "id": "RgKKF6SRKI6j",
        "colab_type": "code",
        "outputId": "20284c54-e3e2-4802-df2a-03cd777fec12",
        "colab": {
          "base_uri": "https://localhost:8080/",
          "height": 119
        }
      },
      "source": [
        "## Here we will check the percentage of nan values present in each feature\n",
        "\n",
        "## 1 -step make the list of features which has missing values-\n",
        "features_with_na=[feature for feature in dataset.columns if dataset[feature].isnull().sum()>1]\n",
        "\n",
        "## 2- step print the feature name and the percentage of missing values\n",
        "for feature in features_with_na:\n",
        "    print(feature,np.round(dataset[feature].isnull().mean(),4)*100,'% missing value')"
      ],
      "execution_count": 8,
      "outputs": [
        {
          "output_type": "stream",
          "text": [
            "cuisine_style 24.98 % missing value\n",
            "ranking 7.6899999999999995 % missing value\n",
            "rating 7.670000000000001 % missing value\n",
            "price_range 38.12 % missing value\n",
            "number_of_reviews 13.819999999999999 % missing value\n",
            "reviews 7.66 % missing value\n"
          ],
          "name": "stdout"
        }
      ]
    },
    {
      "cell_type": "code",
      "metadata": {
        "id": "h9NvL5lgRvEP",
        "colab_type": "code",
        "outputId": "51090f0b-1de8-41ed-a34a-f560000b94af",
        "colab": {
          "base_uri": "https://localhost:8080/",
          "height": 709
        }
      },
      "source": [
        "sns.set(rc={'figure.figsize':(20, 10)})\n",
        "sns.set(font_scale=1.5) \n",
        "sns.heatmap(dataset.isnull(), yticklabels=False)"
      ],
      "execution_count": 0,
      "outputs": [
        {
          "output_type": "execute_result",
          "data": {
            "text/plain": [
              "<matplotlib.axes._subplots.AxesSubplot at 0x7ff310f656a0>"
            ]
          },
          "metadata": {
            "tags": []
          },
          "execution_count": 7
        },
        {
          "output_type": "display_data",
          "data": {
            "image/png": "[encoded data removed]",
            "text/plain": [
              "<Figure size 1440x720 with 2 Axes>"
            ]
          },
          "metadata": {
            "tags": []
          }
        }
      ]
    },
    {
      "cell_type": "markdown",
      "metadata": {
        "id": "uzI76fiobR2V",
        "colab_type": "text"
      },
      "source": [
        "**NUMBER OF RESTURANT PRESENT IN EACH CITY**"
      ]
    },
    {
      "cell_type": "code",
      "metadata": {
        "id": "kVCn9s-njhM0",
        "colab_type": "code",
        "outputId": "971efea1-9469-49f3-e97e-4574ec2e93b5",
        "colab": {
          "base_uri": "https://localhost:8080/",
          "height": 238
        }
      },
      "source": [
        "print(dataset.groupby('city')['name'].value_counts())\n",
        "city_names=dataset.city.unique()\n"
      ],
      "execution_count": 0,
      "outputs": [
        {
          "output_type": "stream",
          "text": [
            "city       name           \n",
            "Amsterdam  New York Pizza     15\n",
            "           Bagels & Beans     11\n",
            "           Febo                7\n",
            "           Amsterdam           6\n",
            "           Burger Bar          4\n",
            "                              ..\n",
            "Zurich     tibits Oerlikon     1\n",
            "           tre fratelli        1\n",
            "           vis-a-vis           1\n",
            "           xenix - summer      1\n",
            "           zaehringer cafe     1\n",
            "Name: name, Length: 118020, dtype: int64\n"
          ],
          "name": "stdout"
        }
      ]
    },
    {
      "cell_type": "markdown",
      "metadata": {
        "id": "5aUMAJAb6mFf",
        "colab_type": "text"
      },
      "source": [
        "**RELATION BETWEEN RANKING AND RATING**"
      ]
    },
    {
      "cell_type": "code",
      "metadata": {
        "id": "kgjRg9wt7CJo",
        "colab_type": "code",
        "outputId": "47981030-dced-4829-fcdd-1e1000605da8",
        "colab": {
          "base_uri": "https://localhost:8080/",
          "height": 499
        }
      },
      "source": [
        "plt.scatter(dataset['ranking'],dataset['rating'])\n",
        "plt.xlabel('ranking')\n",
        "plt.ylabel('rating')\n",
        "plt.show()\n",
        "        "
      ],
      "execution_count": 0,
      "outputs": [
        {
          "output_type": "display_data",
          "data": {
            "image/png": "[encoded data removed]",
            "text/plain": [
              "<Figure size 1440x720 with 1 Axes>"
            ]
          },
          "metadata": {
            "tags": []
          }
        }
      ]
    },
    {
      "cell_type": "markdown",
      "metadata": {
        "id": "xWdgTeOk9YkX",
        "colab_type": "text"
      },
      "source": [
        "**RATING** **DISTRIBUTION**"
      ]
    },
    {
      "cell_type": "code",
      "metadata": {
        "id": "ny9HQwtY9exj",
        "colab_type": "code",
        "outputId": "93182c5f-c7c1-4ffd-f473-d684c887b403",
        "colab": {
          "base_uri": "https://localhost:8080/",
          "height": 504
        }
      },
      "source": [
        "dataset['rating'].hist(bins=25)\n",
        "plt.xlabel('rating')\n",
        "plt.ylabel('count')\n",
        "plt.title('rating distribution')\n",
        "plt.show()\n",
        "    "
      ],
      "execution_count": 0,
      "outputs": [
        {
          "output_type": "display_data",
          "data": {
            "image/png": "[encoded data removed]",
            "text/plain": [
              "<Figure size 1440x720 with 1 Axes>"
            ]
          },
          "metadata": {
            "tags": []
          }
        }
      ]
    },
    {
      "cell_type": "markdown",
      "metadata": {
        "id": "bYZ_5rP8d-gN",
        "colab_type": "text"
      },
      "source": [
        "**RANKING DISTRIBUTION**"
      ]
    },
    {
      "cell_type": "code",
      "metadata": {
        "id": "KVlWqNBkIxw2",
        "colab_type": "code",
        "outputId": "28f0ec0b-6f83-4a40-e223-c9e63e4aff5e",
        "colab": {
          "base_uri": "https://localhost:8080/",
          "height": 295
        }
      },
      "source": [
        "dataset['ranking'].hist(bins=25)\n",
        "plt.xlabel('ranking')\n",
        "plt.ylabel('count')\n",
        "plt.title('ranking distribution')\n",
        "plt.show()\n",
        "    "
      ],
      "execution_count": 11,
      "outputs": [
        {
          "output_type": "display_data",
          "data": {
            "image/png": "[encoded data removed]",
            "text/plain": [
              "<Figure size 432x288 with 1 Axes>"
            ]
          },
          "metadata": {
            "tags": [],
            "needs_background": "light"
          }
        }
      ]
    },
    {
      "cell_type": "markdown",
      "metadata": {
        "id": "Fct_j9H8_inB",
        "colab_type": "text"
      },
      "source": [
        "**NUMBER OF** **RIVIEW** **DISTRIBUTION** "
      ]
    },
    {
      "cell_type": "code",
      "metadata": {
        "id": "PHUDWdLV_1XY",
        "colab_type": "code",
        "outputId": "3ce52361-3eab-475c-e17e-67d5c4042106",
        "colab": {
          "base_uri": "https://localhost:8080/",
          "height": 796
        }
      },
      "source": [
        "print(dataset['number_of_reviews'].value_counts())\n",
        "dataset['number_of_reviews'].hist(bins=100)\n",
        "plt.xlabel('number_of_reviews')\n",
        "plt.ylabel('count')\n",
        "plt.title('number_of_reviews\t')\n",
        "plt.show()\n"
      ],
      "execution_count": 0,
      "outputs": [
        {
          "output_type": "stream",
          "text": [
            "2.0       5698\n",
            "3.0       4687\n",
            "4.0       3820\n",
            "5.0       3388\n",
            "6.0       2968\n",
            "          ... \n",
            "1164.0       1\n",
            "1768.0       1\n",
            "2783.0       1\n",
            "2677.0       1\n",
            "1543.0       1\n",
            "Name: number_of_reviews, Length: 2079, dtype: int64\n"
          ],
          "name": "stdout"
        },
        {
          "output_type": "stream",
          "text": [
            "/usr/local/lib/python3.6/dist-packages/matplotlib/backends/backend_agg.py:214: RuntimeWarning: Glyph 9 missing from current font.\n",
            "  font.set_text(s, 0.0, flags=flags)\n",
            "/usr/local/lib/python3.6/dist-packages/matplotlib/backends/backend_agg.py:183: RuntimeWarning: Glyph 9 missing from current font.\n",
            "  font.set_text(s, 0, flags=flags)\n"
          ],
          "name": "stderr"
        },
        {
          "output_type": "display_data",
          "data": {
            "image/png": "[encoded data removed]",
            "text/plain": [
              "<Figure size 1440x720 with 1 Axes>"
            ]
          },
          "metadata": {
            "tags": []
          }
        }
      ]
    },
    {
      "cell_type": "markdown",
      "metadata": {
        "id": "xn1-qfQbGLTm",
        "colab_type": "text"
      },
      "source": [
        "**NUMBER_OF_REVIEWS VS RANK**"
      ]
    },
    {
      "cell_type": "code",
      "metadata": {
        "id": "yJbuwct9Gb0u",
        "colab_type": "code",
        "outputId": "8315bd7c-0df4-4faa-e009-927e1e2e3aeb",
        "colab": {
          "base_uri": "https://localhost:8080/",
          "height": 295
        }
      },
      "source": [
        "plt.scatter(dataset['ranking'],dataset['number_of_reviews'])\n",
        "plt.xlabel('ranking')\n",
        "plt.ylabel('number_of_reviews')\n",
        "plt.title('NUMBER_OF_REVIEWS VS RANK')\n",
        "plt.show()\n",
        "        "
      ],
      "execution_count": 14,
      "outputs": [
        {
          "output_type": "display_data",
          "data": {
            "image/png": "[encoded data removed]",
            "text/plain": [
              "<Figure size 432x288 with 1 Axes>"
            ]
          },
          "metadata": {
            "tags": [],
            "needs_background": "light"
          }
        }
      ]
    },
    {
      "cell_type": "markdown",
      "metadata": {
        "id": "WaoCSedb2Pkz",
        "colab_type": "text"
      },
      "source": [
        "**NUMBER OF REVIEWS VS RATING**"
      ]
    },
    {
      "cell_type": "code",
      "metadata": {
        "id": "OJEOmXQHoSL_",
        "colab_type": "code",
        "colab": {
          "base_uri": "https://localhost:8080/",
          "height": 295
        },
        "outputId": "e9adf193-e30f-4379-8986-375b2711e2c8"
      },
      "source": [
        "plt.scatter(dataset['rating'],dataset['number_of_reviews'])\n",
        "plt.xlabel('rating')\n",
        "plt.ylabel('number_of_reviews')\n",
        "plt.title('NUMBER_OF_REVIEWS VS RATING')\n",
        "plt.show()"
      ],
      "execution_count": 19,
      "outputs": [
        {
          "output_type": "display_data",
          "data": {
            "image/png": "[encoded data removed]",
            "text/plain": [
              "<Figure size 432x288 with 1 Axes>"
            ]
          },
          "metadata": {
            "tags": [],
            "needs_background": "light"
          }
        }
      ]
    },
    {
      "cell_type": "markdown",
      "metadata": {
        "id": "nK1NVQBlIA8a",
        "colab_type": "text"
      },
      "source": [
        "**NORMAL RELATON BETWEEN RESTURANT NAME,CITY AND RATING**"
      ]
    },
    {
      "cell_type": "code",
      "metadata": {
        "id": "XJ6isbqi2b4l",
        "colab_type": "code",
        "colab": {
          "base_uri": "https://localhost:8080/",
          "height": 136
        },
        "outputId": "59ccd103-9316-4d6a-a2b0-5456e6293f06"
      },
      "source": [
        "dataset.groupby('name')['rating'].mean().sort_values(ascending=False).head()"
      ],
      "execution_count": 21,
      "outputs": [
        {
          "output_type": "execute_result",
          "data": {
            "text/plain": [
              "name\n",
              "!Bebop daslokal        5.0\n",
              "Jwo Lekkernijen        5.0\n",
              "K 35 Gastrobox         5.0\n",
              "Taberna da Saudade     5.0\n",
              "Taberna da Mouraria    5.0\n",
              "Name: rating, dtype: float64"
            ]
          },
          "metadata": {
            "tags": []
          },
          "execution_count": 21
        }
      ]
    },
    {
      "cell_type": "code",
      "metadata": {
        "id": "EIF8vjsk23AV",
        "colab_type": "code",
        "colab": {
          "base_uri": "https://localhost:8080/",
          "height": 136
        },
        "outputId": "1fe717e0-da44-4187-89cd-5ea4f1b92b70"
      },
      "source": [
        "dataset.groupby('name')['rating'].count().sort_values(ascending=False).head()"
      ],
      "execution_count": 23,
      "outputs": [
        {
          "output_type": "execute_result",
          "data": {
            "text/plain": [
              "name\n",
              "McDonald's        311\n",
              "Burger King       170\n",
              "Subway            123\n",
              "Pizza Express      96\n",
              "Domino's Pizza     83\n",
              "Name: rating, dtype: int64"
            ]
          },
          "metadata": {
            "tags": []
          },
          "execution_count": 23
        }
      ]
    },
    {
      "cell_type": "code",
      "metadata": {
        "id": "TDttuC6u3Uv_",
        "colab_type": "code",
        "colab": {
          "base_uri": "https://localhost:8080/",
          "height": 136
        },
        "outputId": "9eca9609-43bb-4beb-951c-82017be05c36"
      },
      "source": [
        "dataset.groupby('city')['number_of_reviews'].mean().sort_values(ascending=False).head()"
      ],
      "execution_count": 27,
      "outputs": [
        {
          "output_type": "execute_result",
          "data": {
            "text/plain": [
              "city\n",
              "Rome         293.895595\n",
              "Edinburgh    235.803519\n",
              "Milan        168.869551\n",
              "Dublin       167.822270\n",
              "Budapest     150.542396\n",
              "Name: number_of_reviews, dtype: float64"
            ]
          },
          "metadata": {
            "tags": []
          },
          "execution_count": 27
        }
      ]
    },
    {
      "cell_type": "markdown",
      "metadata": {
        "id": "z8fpsSdfHtNT",
        "colab_type": "text"
      },
      "source": [
        "**RESTURANT OUTLET IN INDIVISUAL CITY**"
      ]
    },
    {
      "cell_type": "code",
      "metadata": {
        "id": "Sy7_j0fXJxUL",
        "colab_type": "code",
        "colab": {
          "base_uri": "https://localhost:8080/",
          "height": 450
        },
        "outputId": "13fe5380-80e4-4112-e5ae-9b4b786a0e97"
      },
      "source": [
        "resturant_in_indiviual_city=dataset.groupby('city')['name'].value_counts()\n",
        "city_dataset=pd.DataFrame(resturant_in_indiviual_city)\n",
        "city_dataset"
      ],
      "execution_count": 46,
      "outputs": [
        {
          "output_type": "execute_result",
          "data": {
            "text/html": [
              "<div>\n",
              "<style scoped>\n",
              "    .dataframe tbody tr th:only-of-type {\n",
              "        vertical-align: middle;\n",
              "    }\n",
              "\n",
              "    .dataframe tbody tr th {\n",
              "        vertical-align: top;\n",
              "    }\n",
              "\n",
              "    .dataframe thead th {\n",
              "        text-align: right;\n",
              "    }\n",
              "</style>\n",
              "<table border=\"1\" class=\"dataframe\">\n",
              "  <thead>\n",
              "    <tr style=\"text-align: right;\">\n",
              "      <th></th>\n",
              "      <th></th>\n",
              "      <th>name</th>\n",
              "    </tr>\n",
              "    <tr>\n",
              "      <th>city</th>\n",
              "      <th>name</th>\n",
              "      <th></th>\n",
              "    </tr>\n",
              "  </thead>\n",
              "  <tbody>\n",
              "    <tr>\n",
              "      <th rowspan=\"5\" valign=\"top\">Amsterdam</th>\n",
              "      <th>New York Pizza</th>\n",
              "      <td>15</td>\n",
              "    </tr>\n",
              "    <tr>\n",
              "      <th>Bagels &amp; Beans</th>\n",
              "      <td>11</td>\n",
              "    </tr>\n",
              "    <tr>\n",
              "      <th>Febo</th>\n",
              "      <td>7</td>\n",
              "    </tr>\n",
              "    <tr>\n",
              "      <th>Amsterdam</th>\n",
              "      <td>6</td>\n",
              "    </tr>\n",
              "    <tr>\n",
              "      <th>Burger Bar</th>\n",
              "      <td>4</td>\n",
              "    </tr>\n",
              "    <tr>\n",
              "      <th>...</th>\n",
              "      <th>...</th>\n",
              "      <td>...</td>\n",
              "    </tr>\n",
              "    <tr>\n",
              "      <th rowspan=\"5\" valign=\"top\">Zurich</th>\n",
              "      <th>tibits Oerlikon</th>\n",
              "      <td>1</td>\n",
              "    </tr>\n",
              "    <tr>\n",
              "      <th>tre fratelli</th>\n",
              "      <td>1</td>\n",
              "    </tr>\n",
              "    <tr>\n",
              "      <th>vis-a-vis</th>\n",
              "      <td>1</td>\n",
              "    </tr>\n",
              "    <tr>\n",
              "      <th>xenix - summer</th>\n",
              "      <td>1</td>\n",
              "    </tr>\n",
              "    <tr>\n",
              "      <th>zaehringer cafe</th>\n",
              "      <td>1</td>\n",
              "    </tr>\n",
              "  </tbody>\n",
              "</table>\n",
              "<p>118020 rows × 1 columns</p>\n",
              "</div>"
            ],
            "text/plain": [
              "                           name\n",
              "city      name                 \n",
              "Amsterdam New York Pizza     15\n",
              "          Bagels & Beans     11\n",
              "          Febo                7\n",
              "          Amsterdam           6\n",
              "          Burger Bar          4\n",
              "...                         ...\n",
              "Zurich    tibits Oerlikon     1\n",
              "          tre fratelli        1\n",
              "          vis-a-vis           1\n",
              "          xenix - summer      1\n",
              "          zaehringer cafe     1\n",
              "\n",
              "[118020 rows x 1 columns]"
            ]
          },
          "metadata": {
            "tags": []
          },
          "execution_count": 46
        }
      ]
    }
  ]
}